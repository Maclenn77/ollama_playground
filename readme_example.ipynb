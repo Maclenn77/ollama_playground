{
 "cells": [
  {
   "cell_type": "markdown",
   "id": "c265997c-0575-4dc7-99be-50200ca2f255",
   "metadata": {},
   "source": [
    "## Instate ollama"
   ]
  },
  {
   "cell_type": "code",
   "execution_count": 1,
   "id": "aa49a8b4-01e3-40c6-884b-cca409d80656",
   "metadata": {},
   "outputs": [],
   "source": [
    "from langchain_ollama import ChatOllama\n",
    "\n",
    "llm = ChatOllama(\n",
    "    model=\"mistral\",\n",
    "    temperature=0,\n",
    "    # other params...\n",
    ")"
   ]
  },
  {
   "cell_type": "markdown",
   "id": "2a53ae80-f15a-4ce8-9a36-aea99c2fe036",
   "metadata": {},
   "source": [
    "## Define functions"
   ]
  },
  {
   "cell_type": "code",
   "execution_count": 10,
   "id": "50e54ee4-8beb-488b-bf4a-eaebfafe11cf",
   "metadata": {},
   "outputs": [],
   "source": [
    "from langchain_core.messages import AIMessage\n",
    "\n",
    "## functions\n",
    "def create_prompt(project_name, tools, description):\n",
    "    prompt = f\"\"\"Write a readme using markdown. \n",
    "    The project name is {project_name}\n",
    "    It uses {tools}\n",
    "    It does {description}\n",
    "    \"\"\"\n",
    "\n",
    "    return prompt\n",
    "\n",
    "def create_messages(prompt):\n",
    "    messages = [\n",
    "        (\"system\", f\"{prompt}\"),\n",
    "        (\"human\", \"Write a readme\"),\n",
    "    ]\n",
    "    return messages\n",
    "\n",
    "def create_readme(project_name, tools, description):\n",
    "    prompt = create_prompt(project_name, tools, description)\n",
    "\n",
    "    messages = create_messages(prompt)\n",
    "    print(\"Invoking LLM\")\n",
    "    ai_msg = llm.invoke(messages)\n",
    "\n",
    "    return ai_msg.content\n",
    "\n",
    "def save_readme(readme_file):\n",
    "    with open('README.md', 'w') as file:\n",
    "        file.write(readme_file)"
   ]
  },
  {
   "cell_type": "markdown",
   "id": "546c64b3-4927-4192-94d1-400cdc8a9af3",
   "metadata": {},
   "source": [
    "## Test your code"
   ]
  },
  {
   "cell_type": "code",
   "execution_count": 8,
   "id": "d8b91cfc-a3f5-414f-a9e9-4d6c276c2415",
   "metadata": {},
   "outputs": [
    {
     "name": "stdout",
     "output_type": "stream",
     "text": [
      "Invoking LLM\n"
     ]
    }
   ],
   "source": [
    "project_name = \"ollama_playground\"\n",
    "\n",
    "tools = \"python, langchain, ollama, jupyter notebooks, pyenv\"\n",
    "\n",
    "description = \"This project is a playground to test ollama in a local environment with jupyter notebooks\"\n",
    "\n",
    "readme = create_readme(project_name, tools, description)"
   ]
  },
  {
   "cell_type": "markdown",
   "id": "1b29a04e-67bb-4c93-ba5e-2fd40afa8e8f",
   "metadata": {},
   "source": [
    "## Show output"
   ]
  },
  {
   "cell_type": "code",
   "execution_count": 9,
   "id": "49c5b241-8a38-4fe8-8821-ae0e1145d0e2",
   "metadata": {},
   "outputs": [
    {
     "name": "stdout",
     "output_type": "stream",
     "text": [
      " # ollama_playground\n",
      "\n",
      "Welcome to the ollama_playground! This repository serves as a local testing ground for experimenting with Ollama using Python, Langchain, and Jupyter Notebooks.\n",
      "\n",
      "## Requirements\n",
      "\n",
      "- Python\n",
      "- Pyenv (for managing multiple Python versions)\n",
      "- Jupyter Notebooks\n",
      "\n",
      "## Installation\n",
      "\n",
      "1. Clone the repository:\n",
      "   ```\n",
      "   git clone https://github.com/yourusername/ollama_playground.git\n",
      "   ```\n",
      "\n",
      "2. Navigate to the project directory:\n",
      "   ```\n",
      "   cd ollama_playground\n",
      "   ```\n",
      "\n",
      "3. Install the required packages using Pyenv:\n",
      "   ```\n",
      "   pyenv local 3.x.x  # Replace '3.x.x' with your desired Python version\n",
      "   pip install -r requirements.txt\n",
      "   ```\n",
      "\n",
      "## Usage\n",
      "\n",
      "1. Start a Jupyter Notebook server:\n",
      "   ```\n",
      "   jupyter notebook\n",
      "   ```\n",
      "\n",
      "2. Open the `ollama_playground.ipynb` notebook in your browser to begin experimenting with Ollama.\n",
      "\n",
      "## Contributing\n",
      "\n",
      "We welcome contributions from the community! If you have any ideas, improvements, or bug fixes, please submit a pull request.\n",
      "\n",
      "## License\n",
      "\n",
      "This project is licensed under the MIT License - see the [LICENSE](LICENSE) file for details.\n",
      "\n",
      "Enjoy exploring and learning with ollama_playground! 🚀🐙\n"
     ]
    }
   ],
   "source": [
    "print(readme)"
   ]
  },
  {
   "cell_type": "code",
   "execution_count": 11,
   "id": "68708285-537a-462e-9fde-40e8dd6cc0d3",
   "metadata": {},
   "outputs": [],
   "source": [
    "save_readme(readme)"
   ]
  }
 ],
 "metadata": {
  "kernelspec": {
   "display_name": "Python 3 (ipykernel)",
   "language": "python",
   "name": "python3"
  },
  "language_info": {
   "codemirror_mode": {
    "name": "ipython",
    "version": 3
   },
   "file_extension": ".py",
   "mimetype": "text/x-python",
   "name": "python",
   "nbconvert_exporter": "python",
   "pygments_lexer": "ipython3",
   "version": "3.12.7"
  }
 },
 "nbformat": 4,
 "nbformat_minor": 5
}
