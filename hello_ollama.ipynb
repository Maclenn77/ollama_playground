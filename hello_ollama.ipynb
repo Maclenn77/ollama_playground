{
 "cells": [
  {
   "cell_type": "code",
   "execution_count": null,
   "id": "66bf929a-22e0-40b0-9f20-9e2af3383dd0",
   "metadata": {},
   "outputs": [],
   "source": [
    "%pip install -qU langchain-ollama"
   ]
  },
  {
   "cell_type": "code",
   "execution_count": null,
   "id": "0b44040e-79aa-47a8-a19b-a2f35ffd387e",
   "metadata": {},
   "outputs": [],
   "source": [
    "%pip install -U ollama"
   ]
  },
  {
   "cell_type": "code",
   "execution_count": 8,
   "id": "0cd93fee-79cf-42d3-a42c-9ba5e5111cd8",
   "metadata": {},
   "outputs": [],
   "source": [
    "from langchain_ollama import ChatOllama\n",
    "\n",
    "llm = ChatOllama(\n",
    "    model=\"mistral\",\n",
    "    temperature=0,\n",
    "    # other params...\n",
    ")"
   ]
  },
  {
   "cell_type": "code",
   "execution_count": 9,
   "id": "678814ff-bac7-45f4-818b-4eb827e6c1ff",
   "metadata": {},
   "outputs": [
    {
     "name": "stdout",
     "output_type": "stream",
     "text": [
      " Hello there! How can I assist you today? Whether it's answering questions, helping with tasks, or just providing some interesting facts, I'm here to help. What would you like to know or discuss?\n"
     ]
    }
   ],
   "source": [
    "from langchain_core.messages import AIMessage\n",
    "\n",
    "messages = [\n",
    "    (\n",
    "        \"system\",\n",
    "        \"You're a helpful assistant that helps user\",\n",
    "    ),\n",
    "    (\"human\", \"Hello, World!\"),\n",
    "]\n",
    "ai_msg = llm.invoke(messages)\n",
    "print(ai_msg.content)\n",
    "\n"
   ]
  }
 ],
 "metadata": {
  "kernelspec": {
   "display_name": "Python 3 (ipykernel)",
   "language": "python",
   "name": "python3"
  },
  "language_info": {
   "codemirror_mode": {
    "name": "ipython",
    "version": 3
   },
   "file_extension": ".py",
   "mimetype": "text/x-python",
   "name": "python",
   "nbconvert_exporter": "python",
   "pygments_lexer": "ipython3",
   "version": "3.12.7"
  }
 },
 "nbformat": 4,
 "nbformat_minor": 5
}
